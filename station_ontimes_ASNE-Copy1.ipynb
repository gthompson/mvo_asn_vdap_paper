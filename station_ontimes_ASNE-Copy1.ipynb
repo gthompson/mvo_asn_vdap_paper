{
 "cells": [
  {
   "cell_type": "code",
   "execution_count": 1,
   "metadata": {},
   "outputs": [],
   "source": [
    "import pandas as pd\n",
    "import csv\n",
    "import obspy\n",
    "import matplotlib.pyplot as plt\n",
    "import numpy as np\n",
    "import os\n",
    "import glob\n",
    "csvfile = '/home/thompsong/src/Alexis_Montserrat_codes/ASNE_dailytraceid_wavfiles_df.csv'\n",
    "df = pd.read_csv(csvfile)"
   ]
  },
  {
   "cell_type": "code",
   "execution_count": 2,
   "metadata": {},
   "outputs": [
    {
     "name": "stdout",
     "output_type": "stream",
     "text": [
      "        Unnamed: 0  yyyymmdd         traceid  count\n",
      "0             1664  19950727  MV.MWHE.--.SHX      0\n",
      "1             1665  19950727  MV.MCPZ.--.SHZ      0\n",
      "2             1666  19950727  MV.MHRN.--.SHX      0\n",
      "3             1667  19950727  MV.MLGL.--.SHE      0\n",
      "4             1668  19950727  MV.MHRN.--.SHY      0\n",
      "5             1669  19950727  MV.MVOV.--.SHY      0\n",
      "6             1670  19950727  MV.MJHL.--.SHZ      0\n",
      "7             1671  19950727  MV.MSSE.--.SHX      0\n",
      "8             1672  19950727  MV.MWZL.--.SHZ      0\n",
      "9             1673  19950727  MV.MVOE.--.SHZ      0\n",
      "10            1674  19950727  MV.MPEW.--.SHE      2\n",
      "11            1675  19950727  MV.MVPE.--.SHE      0\n",
      "12            1676  19950727  MV.MCPZ.--.SHY      0\n",
      "13            1677  19950727  MV.MVON.--.SHX      0\n",
      "14            1678  19950727  MV.MCHT.--.SHZ      0\n",
      "15            1679  19950727  MV.MPLY.--.SHN      1\n",
      "16            1680  19950727  MV.MPVE.--.SHZ      2\n",
      "17            1681  19950727  MV.MWHE.--.SHY      0\n",
      "18            1682  19950727  MV.MLGT.--.SHZ      2\n",
      "19            1683  19950727  MV.MSPT.--.SHZ      3\n",
      "20            1684  19950727  MV.MLGL.--.SHZ      0\n",
      "21            1685  19950727  MV.MPEW.--.SHZ      0\n",
      "22            1686  19950727  MV.MVPV.--.SHZ      0\n",
      "23            1687  19950727  MV.TST1.--.SHZ      0\n",
      "24            1688  19950727  MV.MCPE.--.SHX      0\n",
      "25            1689  19950727  MV.MGAT.--.SHZ      2\n",
      "26            1690  19950727  MV.MWEH.--.SHX      0\n",
      "27            1691  19950727  MV.MWHN.--.SHN      0\n",
      "28            1692  19950727  MV.MWHT.--.SHZ      3\n",
      "29            1693  19950727  MV.MSSN.--.SHY      0\n",
      "...            ...       ...             ...    ...\n",
      "193186      194850  20031231  MV.MCPT.--.SHZ      0\n",
      "193187      194851  20031231  MV.MWH2.--.SHZ      0\n",
      "193188      194852  20031231  MV.MSAT.--.SHZ      0\n",
      "193189      194853  20031231  MV.MVPE.--.SHX      0\n",
      "193190      194854  20031231  MV.MPLX.--.SHE      0\n",
      "193191      194855  20031231  MV.MHRV.--.SHZ      0\n",
      "193192      194856  20031231  MV.LONG.--.SHE      0\n",
      "193193      194857  20031231  MV.MRHT.--.SHZ      0\n",
      "193194      194858  20031231  MV.MGT2.--.SHZ      0\n",
      "193195      194859  20031231  MV.MHRE.--.SHZ      0\n",
      "193196      194860  20031231  MV.MRYT.--.SHZ      0\n",
      "193197      194861  20031231  MV.MBET.--.SHZ      0\n",
      "193198      194862  20031231  MV.MPNS.--.SHN      0\n",
      "193199      194863  20031231  MV.MSSZ.--.SHZ      0\n",
      "193200      194864  20031231  MV.MHRV.--.SHY      0\n",
      "193201      194865  20031231  MV.MWNH.--.SHY      0\n",
      "193202      194866  20031231  MV.MWNL.--.SHY      0\n",
      "193203      194867  20031231  MV.IRIG.--.THE      0\n",
      "193204      194868  20031231  MV.MVPN.--.SHY      0\n",
      "193205      194869  20031231  MV.MWHE.--.SHE      0\n",
      "193206      194870  20031231  MV.MVPZ.--.SHZ      0\n",
      "193207      194871  20031231  MV.MCPN.--.SHY      0\n",
      "193208      194872  20031231  MV.MWEL.--.SHX      0\n",
      "193209      194873  20031231  MV.MPLZ.--.SHZ      0\n",
      "193210      194874  20031231  MV.MJHT.--.SHZ      0\n",
      "193211      194875  20031231  MV.MWHN.--.SHY      0\n",
      "193212      194876  20031231  MV.MWHZ.--.SHZ      0\n",
      "193213      194877  20031231  MV.MLYT.--.SHZ      0\n",
      "193214      194878  20031231  MV.MWHN.--.SHX      0\n",
      "193215      194879  20031231  MV.MCPN.--.SHZ      0\n",
      "\n",
      "[193216 rows x 4 columns]\n"
     ]
    }
   ],
   "source": [
    "print(df)"
   ]
  },
  {
   "cell_type": "code",
   "execution_count": 8,
   "metadata": {},
   "outputs": [
    {
     "name": "stdout",
     "output_type": "stream",
     "text": [
      "['MV.IRIG.--.THE', 'MV.LONG.--.SHE', 'MV.MBET.--.SHZ', 'MV.MCHT.--.SHZ', 'MV.MCPE.--.SHX', 'MV.MCPN.--.SHY', 'MV.MCPN.--.SHZ', 'MV.MCPT.--.SHZ', 'MV.MCPZ.--.SHY', 'MV.MCPZ.--.SHZ', 'MV.MGAT.--.SHZ', 'MV.MGHZ.--.SHZ', 'MV.MGT2.--.SHZ', 'MV.MHRE.--.SHX', 'MV.MHRE.--.SHZ', 'MV.MHRN.--.SHX', 'MV.MHRN.--.SHY', 'MV.MHRV.--.SHY', 'MV.MHRV.--.SHZ', 'MV.MJHL.--.SHZ', 'MV.MJHT.--.SHZ', 'MV.MLGL.--.SHE', 'MV.MLGL.--.SHZ', 'MV.MLGT.--.SHZ', 'MV.MLYT.--.SHZ', 'MV.MNEV.--.SHZ', 'MV.MPEW.--.SHE', 'MV.MPEW.--.SHZ', 'MV.MPLX.--.SHE', 'MV.MPLY.--.SHN', 'MV.MPLZ.--.SHZ', 'MV.MPNS.--.SHN', 'MV.MPVE.--.SHZ', 'MV.MRHT.--.SHZ', 'MV.MRYT.--.SHZ', 'MV.MSAT.--.SHZ', 'MV.MSPT.--.SHZ', 'MV.MSSE.--.SHX', 'MV.MSSN.--.SHY', 'MV.MSSZ.--.SHZ', 'MV.MVOE.--.SHZ', 'MV.MVON.--.SHX', 'MV.MVOV.--.SHY', 'MV.MVPE.--.SHE', 'MV.MVPE.--.SHX', 'MV.MVPN.--.SHY', 'MV.MVPV.--.SHZ', 'MV.MVPZ.--.SHZ', 'MV.MWEH.--.SHX', 'MV.MWEL.--.SHX', 'MV.MWH2.--.SHZ', 'MV.MWHE.--.SHE', 'MV.MWHE.--.SHX', 'MV.MWHE.--.SHY', 'MV.MWHN.--.SHN', 'MV.MWHN.--.SHX', 'MV.MWHN.--.SHY', 'MV.MWHT.--.SHZ', 'MV.MWHZ.--.SHZ', 'MV.MWNH.--.SHY', 'MV.MWNL.--.SHY', 'MV.MWZH.--.SHZ', 'MV.MWZL.--.SHZ', 'MV.TST1.--.SHZ']\n"
     ]
    }
   ],
   "source": [
    "print(sorted(df.traceid.unique()))"
   ]
  },
  {
   "cell_type": "code",
   "execution_count": 50,
   "metadata": {},
   "outputs": [],
   "source": [
    "def translate_id2site(id):\n",
    "    thissite = id[4:6]\n",
    "    if id[3:7]=='LONG':\n",
    "        thissite = 'LG'\n",
    "    if id[3:5]=='MW':\n",
    "        thissite = 'WH'\n",
    "    if id[3:6]=='MVO':\n",
    "        thissite = 'MVO'\n",
    "    if id[4:7]=='NEV':\n",
    "        thissite = 'NEV'\n",
    "    if id[3:5]=='MP':\n",
    "        thissite = 'PL'\n",
    "    if id[3:6]=='MCH':\n",
    "        thissite = 'CP'\n",
    "    if id[3:7]=='IRIG' or id[3:7]=='TST1' or id[3:6]=='MRH':\n",
    "        thissite = ''\n",
    "    return thissite    "
   ]
  },
  {
   "cell_type": "code",
   "execution_count": 51,
   "metadata": {},
   "outputs": [
    {
     "name": "stdout",
     "output_type": "stream",
     "text": [
      "['BE', 'CP', 'GA', 'GH', 'GT', 'HR', 'JH', 'LG', 'LY', 'MVO', 'NEV', 'PL', 'RY', 'SA', 'SP', 'SS', 'VP', 'WH']\n"
     ]
    }
   ],
   "source": [
    "uniqids = df.traceid.unique()\n",
    "sites = set()\n",
    "for id in uniqids:\n",
    "    thissite = translate_id2site(id)\n",
    "    if not thissite:\n",
    "        continue\n",
    "    sites.add(thissite)\n",
    "sites = sorted(sites)\n",
    "print(sites)"
   ]
  },
  {
   "cell_type": "code",
   "execution_count": 52,
   "metadata": {},
   "outputs": [
    {
     "name": "stdout",
     "output_type": "stream",
     "text": [
      "         date   BE   CP   GA   GH   GT   HR   JH   LG   LY  MVO  NEV   PL  \\\n",
      "19950727  NaN    3  NaN    2    3  NaN  NaN  NaN    2  NaN  NaN  NaN    2   \n",
      "19950728  NaN   50  NaN   50   50  NaN  NaN  NaN   40  NaN  NaN  NaN   50   \n",
      "19950729  NaN   47  NaN   47   47  NaN  NaN  NaN   47  NaN  NaN  NaN   47   \n",
      "19950730  NaN   20  NaN   20   20  NaN  NaN  NaN   20  NaN  NaN  NaN   20   \n",
      "19950731  NaN   14  NaN   14   14  NaN  NaN  NaN   14  NaN  NaN  NaN   14   \n",
      "19950801  NaN   15  NaN   15   15  NaN  NaN  NaN   15  NaN  NaN  NaN   15   \n",
      "19950802  NaN   17  NaN   17   17  NaN  NaN  NaN   17  NaN  NaN  NaN   17   \n",
      "19950803  NaN   11  NaN   11   11  NaN  NaN  NaN   11  NaN  NaN  NaN   11   \n",
      "19950804  NaN   22  NaN   22   22  NaN  NaN  NaN   22  NaN  NaN  NaN   22   \n",
      "19950805  NaN  157  NaN  157  157  NaN  NaN  NaN  157  NaN  NaN  NaN  157   \n",
      "19950806  NaN  148  NaN  148  148  NaN  NaN  NaN  148  NaN  NaN  NaN  148   \n",
      "19950807  NaN   39  NaN   39   39  NaN  NaN  NaN   39  NaN  NaN  NaN   39   \n",
      "19950808  NaN   16  NaN   16   16  NaN  NaN  NaN   16  NaN  NaN  NaN   16   \n",
      "19950809  NaN    3  NaN    3    3  NaN  NaN  NaN    3  NaN  NaN  NaN    3   \n",
      "19950810  NaN   29  NaN   29   29  NaN  NaN  NaN   29  NaN  NaN  NaN   29   \n",
      "19950811  NaN   24  NaN   24   24  NaN  NaN  NaN   24  NaN  NaN  NaN   24   \n",
      "19950812  NaN   79  NaN   79   79  NaN  NaN  NaN   79  NaN  NaN  NaN   79   \n",
      "19950813  NaN  273  NaN  273  273  NaN  NaN  NaN  273  NaN  NaN  NaN  273   \n",
      "19950814  NaN   83  NaN   83   83  NaN  NaN  NaN   83  NaN  NaN  NaN   83   \n",
      "19950815  NaN   25  NaN   25   25  NaN  NaN  NaN   25  NaN  NaN  NaN   25   \n",
      "19950816  NaN   24  NaN   24   24  NaN  NaN  NaN   24  NaN  NaN  NaN   24   \n",
      "19950817  NaN   11  NaN   11   11  NaN  NaN  NaN   11  NaN  NaN  NaN   11   \n",
      "19950818  NaN   12  NaN   12   12  NaN  NaN  NaN   12  NaN  NaN  NaN   12   \n",
      "19950819  NaN   19  NaN   19   19  NaN  NaN  NaN   19  NaN  NaN  NaN   19   \n",
      "19950820  NaN   89  NaN   89   89  NaN  NaN  NaN   89  NaN  NaN  NaN   89   \n",
      "19950821  NaN  167  NaN  167  167  NaN  NaN  NaN  167  NaN  NaN  NaN  167   \n",
      "19950822  NaN   45  NaN   45   45  NaN  NaN  NaN   45  NaN  NaN  NaN   30   \n",
      "19950823  NaN   77  NaN   77   77  NaN  NaN  NaN   77  NaN  NaN  NaN  NaN   \n",
      "19950824  NaN   29  NaN   29   29  NaN  NaN  NaN   29  NaN  NaN  NaN  NaN   \n",
      "19950825  NaN   14  NaN   14   14  NaN  NaN  NaN   14  NaN  NaN  NaN  NaN   \n",
      "...       ...  ...  ...  ...  ...  ...  ...  ...  ...  ...  ...  ...  ...   \n",
      "20031116  NaN  NaN  NaN  NaN  170  NaN  NaN  170  170  170  NaN  NaN  NaN   \n",
      "20031117  NaN  NaN  NaN  NaN   43  NaN  NaN   43   43   43  NaN  NaN  NaN   \n",
      "20031118  NaN  NaN  NaN  NaN   40  NaN  NaN   40   40   40  NaN  NaN  NaN   \n",
      "20031119  NaN  NaN  NaN  NaN   23  NaN  NaN   23   23   23  NaN  NaN  NaN   \n",
      "20031120  NaN  NaN  NaN  NaN   27  NaN  NaN   27   27   27  NaN  NaN  NaN   \n",
      "20031121  NaN  NaN  NaN  NaN   27  NaN  NaN   27   27   27  NaN  NaN  NaN   \n",
      "20031122  NaN  NaN  NaN  NaN   20  NaN  NaN   20   13   20  NaN  NaN  NaN   \n",
      "20031123  NaN  NaN  NaN  NaN   11  NaN  NaN   11    2   11  NaN  NaN  NaN   \n",
      "20031124  NaN  NaN  NaN  NaN    6  NaN  NaN    6    3    6  NaN  NaN  NaN   \n",
      "20031125  NaN  NaN  NaN  NaN    6  NaN  NaN    6    2    6  NaN  NaN  NaN   \n",
      "20031126  NaN  NaN  NaN  NaN    2  NaN  NaN    2    1    2  NaN  NaN  NaN   \n",
      "20031127  NaN  NaN  NaN  NaN    2  NaN  NaN    2  NaN    2  NaN  NaN  NaN   \n",
      "20031128  NaN  NaN  NaN  NaN    2  NaN  NaN    2    2    2  NaN  NaN  NaN   \n",
      "20031129  NaN  NaN  NaN  NaN    5  NaN  NaN    5    1    5  NaN  NaN  NaN   \n",
      "20031130  NaN  NaN  NaN  NaN    1  NaN  NaN    1    1    1  NaN  NaN  NaN   \n",
      "20031201  NaN  NaN  NaN  NaN    4  NaN  NaN    4    1    4  NaN  NaN  NaN   \n",
      "20031202  NaN  NaN  NaN  NaN    1  NaN  NaN    1  NaN    1  NaN  NaN  NaN   \n",
      "20031203  NaN  NaN  NaN  NaN    3  NaN  NaN    3  NaN    3  NaN  NaN  NaN   \n",
      "20031204  NaN  NaN  NaN  NaN    3  NaN  NaN    3  NaN    3  NaN  NaN  NaN   \n",
      "20031205  NaN  NaN  NaN  NaN    1  NaN  NaN    1    1    1  NaN  NaN  NaN   \n",
      "20031206  NaN  NaN  NaN  NaN    1  NaN  NaN    1    1    1  NaN  NaN  NaN   \n",
      "20031207  NaN  NaN  NaN  NaN    6  NaN  NaN    6    3    6  NaN  NaN  NaN   \n",
      "20031209  NaN  NaN  NaN  NaN    2  NaN  NaN    2  NaN    2  NaN  NaN  NaN   \n",
      "20031210  NaN  NaN  NaN  NaN    4  NaN  NaN    4    3    4  NaN  NaN  NaN   \n",
      "20031211  NaN  NaN  NaN  NaN   10  NaN  NaN   10    3   10  NaN  NaN  NaN   \n",
      "20031212  NaN  NaN  NaN  NaN    1  NaN  NaN    1  NaN    1  NaN  NaN  NaN   \n",
      "20031213  NaN  NaN  NaN  NaN    4  NaN  NaN    4  NaN    4  NaN  NaN  NaN   \n",
      "20031214  NaN  NaN  NaN  NaN    3  NaN  NaN    3  NaN    3  NaN  NaN  NaN   \n",
      "20031215  NaN  NaN  NaN  NaN    4  NaN  NaN    4    1    4  NaN  NaN  NaN   \n",
      "20031216  NaN  NaN  NaN  NaN    3  NaN  NaN    3  NaN    3  NaN  NaN  NaN   \n",
      "\n",
      "           RY   SA   SP   SS   VP   WH  \n",
      "19950727    2    3    3  NaN  NaN    3  \n",
      "19950728   50   50   50  NaN  NaN   50  \n",
      "19950729   47   47   47  NaN  NaN   47  \n",
      "19950730   20   20   20  NaN  NaN   20  \n",
      "19950731   14   14   14  NaN  NaN   14  \n",
      "19950801   15   15   15  NaN  NaN   15  \n",
      "19950802   17   17   17  NaN  NaN   17  \n",
      "19950803   11   11   11  NaN  NaN   11  \n",
      "19950804   22   22   22  NaN  NaN   22  \n",
      "19950805  157  157  157  NaN  NaN  157  \n",
      "19950806  148  148  148  NaN  NaN  148  \n",
      "19950807   39   39   39  NaN  NaN   39  \n",
      "19950808   16   16   16  NaN  NaN   16  \n",
      "19950809    3    3    3  NaN  NaN    3  \n",
      "19950810   29   27   29  NaN  NaN   29  \n",
      "19950811   24   24   24  NaN  NaN   24  \n",
      "19950812   79   79   79  NaN  NaN   79  \n",
      "19950813  273  273  273  NaN  NaN  273  \n",
      "19950814   83   83   83  NaN  NaN   83  \n",
      "19950815   25   25   25  NaN  NaN   25  \n",
      "19950816   24   24   24  NaN  NaN   24  \n",
      "19950817   11   11   11  NaN  NaN   11  \n",
      "19950818   12   12   12  NaN  NaN   12  \n",
      "19950819   19   19   19  NaN  NaN   19  \n",
      "19950820   89   89   89  NaN  NaN   89  \n",
      "19950821  167  167  167  NaN  NaN  167  \n",
      "19950822   45   45   45  NaN  NaN   45  \n",
      "19950823   77   77   77  NaN  NaN   77  \n",
      "19950824   29   29   29  NaN  NaN   29  \n",
      "19950825   14   14   14  NaN  NaN   14  \n",
      "...       ...  ...  ...  ...  ...  ...  \n",
      "20031116  170  NaN  NaN  NaN  NaN  170  \n",
      "20031117   43  NaN  NaN  NaN  NaN   43  \n",
      "20031118   40  NaN  NaN  NaN  NaN   40  \n",
      "20031119   23  NaN  NaN  NaN  NaN   23  \n",
      "20031120   27  NaN  NaN  NaN  NaN   27  \n",
      "20031121   27  NaN  NaN  NaN  NaN   27  \n",
      "20031122   20  NaN  NaN  NaN  NaN   20  \n",
      "20031123   11  NaN  NaN  NaN  NaN   11  \n",
      "20031124    6  NaN  NaN  NaN  NaN    6  \n",
      "20031125    6  NaN  NaN  NaN  NaN    6  \n",
      "20031126    2  NaN  NaN  NaN  NaN    2  \n",
      "20031127    2  NaN  NaN  NaN  NaN    2  \n",
      "20031128    2  NaN  NaN  NaN  NaN    2  \n",
      "20031129    5  NaN  NaN  NaN  NaN    5  \n",
      "20031130    1  NaN  NaN  NaN  NaN    1  \n",
      "20031201    4  NaN  NaN  NaN  NaN    4  \n",
      "20031202    1  NaN  NaN  NaN  NaN    1  \n",
      "20031203    3  NaN  NaN  NaN  NaN    3  \n",
      "20031204    3  NaN  NaN  NaN  NaN    3  \n",
      "20031205    1  NaN  NaN  NaN  NaN    1  \n",
      "20031206    1  NaN  NaN  NaN  NaN    1  \n",
      "20031207    6  NaN  NaN  NaN  NaN    6  \n",
      "20031209    2  NaN  NaN  NaN  NaN    2  \n",
      "20031210    4  NaN  NaN  NaN  NaN    4  \n",
      "20031211   10  NaN  NaN  NaN  NaN   10  \n",
      "20031212    1  NaN  NaN  NaN  NaN    1  \n",
      "20031213    4  NaN  NaN  NaN  NaN    4  \n",
      "20031214    3  NaN  NaN  NaN  NaN    3  \n",
      "20031215    4  NaN  NaN  NaN  NaN    4  \n",
      "20031216    3  NaN  NaN  NaN  NaN    3  \n",
      "\n",
      "[2714 rows x 19 columns]\n"
     ]
    }
   ],
   "source": [
    "# loop over rows in df, and create a new dataframe for sites, with a 1 to indicate if on for each day\n",
    "sites_df = pd.DataFrame(columns = ['date'] + sorted(sites))\n",
    "for index, row in df.iterrows():\n",
    "    thisdate = row['yyyymmdd']\n",
    "    thissite = translate_id2site(row['traceid'])\n",
    "    if not thissite:\n",
    "        continue\n",
    "    thiscount = row['count']\n",
    "    if np.isnan(thiscount):\n",
    "        thiscount = 0\n",
    "    currentcount = 0\n",
    "    try:\n",
    "        currentcount = sites_df.at[thisdate,thissite]\n",
    "    except:\n",
    "        pass\n",
    "    if np.isnan(currentcount):\n",
    "        currentcount = 0\n",
    "    if thiscount > currentcount:\n",
    "        sites_df.at[thisdate,thissite] = thiscount\n",
    "print(sites_df)"
   ]
  },
  {
   "cell_type": "code",
   "execution_count": 53,
   "metadata": {},
   "outputs": [],
   "source": [
    "sites_bool_df = (sites_df > 0) * 1"
   ]
  },
  {
   "cell_type": "code",
   "execution_count": 54,
   "metadata": {},
   "outputs": [
    {
     "name": "stdout",
     "output_type": "stream",
     "text": [
      "(2714, 18)\n"
     ]
    }
   ],
   "source": [
    "data = np.array(sites_bool_df, dtype=float) # convert dataframe to numpy array\n",
    "data = 1-data[:,1:] # remove 'date' column which for some reason is empty\n",
    "print(data.shape)"
   ]
  },
  {
   "cell_type": "code",
   "execution_count": 55,
   "metadata": {},
   "outputs": [
    {
     "name": "stdout",
     "output_type": "stream",
     "text": [
      "['19950801', '19960501', '19961101', '19970501', '19971101', '19980501', '19981201', '19990701', '20000101', '20000801', '20010201', '20010801', '20020301', '20020901', '20030601', '20031201']\n"
     ]
    }
   ],
   "source": [
    "# Set labels for ontime plot\n",
    "xticklabels = sites\n",
    "yticklabels = []\n",
    "yticks=[]\n",
    "i = 0\n",
    "for index, row in sites_bool_df.iterrows():\n",
    "    date = str(index)\n",
    "    if date[-2:]=='01':\n",
    "        yticklabels.append(date)\n",
    "        yticks.append(i)\n",
    "    i+=1\n",
    "ystep = 1\n",
    "if len(yticks)>15:\n",
    "    ystep=2\n",
    "if len(yticks)>25:\n",
    "    ystep=3\n",
    "if len(yticks)>40:\n",
    "    ystep=4\n",
    "if len(yticks)>60:\n",
    "    ystep=6\n",
    "if len(yticks)>120:\n",
    "    ystep=12    \n",
    "yticks = yticks[0::ystep]\n",
    "yticklabels = yticklabels[0::ystep]\n",
    "print(yticklabels)"
   ]
  },
  {
   "cell_type": "code",
   "execution_count": 56,
   "metadata": {},
   "outputs": [
    {
     "data": {
      "text/plain": [
       "Text(0.5,6.8,'Site')"
      ]
     },
     "execution_count": 56,
     "metadata": {},
     "output_type": "execute_result"
    },
    {
     "data": {
      "image/png": "[encoded data removed]",
      "text/plain": [
       "<Figure size 432x288 with 1 Axes>"
      ]
     },
     "metadata": {
      "needs_background": "light"
     },
     "output_type": "display_data"
    }
   ],
   "source": [
    "# make ontime plot\n",
    "fig = plt.figure()\n",
    "ax = fig.add_subplot(111)\n",
    "ax.imshow(data, aspect='auto', cmap=plt.cm.gray, interpolation='nearest')\n",
    "plt.xticks(np.arange(len(xticklabels)), xticklabels)\n",
    "ax.set_xticklabels(xticklabels, rotation = 90)\n",
    "plt.yticks(yticks, yticklabels)\n",
    "plt.tight_layout()\n",
    "plt.savefig('ASNE_siteontime.png',dpi=200)\n",
    "plt.ylabel('Date')\n",
    "plt.xlabel('Site')"
   ]
  },
  {
   "cell_type": "code",
   "execution_count": 57,
   "metadata": {},
   "outputs": [
    {
     "data": {
      "image/png": "[encoded data removed]",
      "text/plain": [
       "<Figure size 432x288 with 1 Axes>"
      ]
     },
     "metadata": {
      "needs_background": "light"
     },
     "output_type": "display_data"
    }
   ],
   "source": [
    "# make number of stations operational per day plot\n",
    "fig = plt.figure()\n",
    "ax = fig.add_subplot(111)\n",
    "s = np.sum(1-data,axis=1)\n",
    "plt.plot(s,'.')\n",
    "plt.xticks(yticks, yticklabels)\n",
    "ax.set_xticklabels(yticklabels, rotation = 90)\n",
    "plt.ylabel('Number of sites operational')\n",
    "plt.savefig('ASNE_numsitesperday.png',dpi=200)"
   ]
  },
  {
   "cell_type": "code",
   "execution_count": 58,
   "metadata": {},
   "outputs": [
    {
     "name": "stdout",
     "output_type": "stream",
     "text": [
      "(2714, 18)\n",
      "(2714,)\n"
     ]
    },
    {
     "data": {
      "image/png": "[encoded data removed]",
      "text/plain": [
       "<Figure size 432x288 with 1 Axes>"
      ]
     },
     "metadata": {
      "needs_background": "light"
     },
     "output_type": "display_data"
    }
   ],
   "source": [
    "# make number of WAVfiles per day plot\n",
    "fig = plt.figure()\n",
    "ax = fig.add_subplot(111)\n",
    "data2 = np.array(sites_df) # convert dataframe to numpy array\n",
    "data2 = data2[:,1:] # remove 'date' column which for some reason is empty\n",
    "print(data2.shape)\n",
    "y = np.nanmax(data2,axis=1)\n",
    "print(y.shape)\n",
    "plt.plot(y)\n",
    "plt.xticks(yticks, yticklabels)\n",
    "ax.set_xticklabels(yticklabels, rotation = 90)\n",
    "plt.ylabel('Number of WAV files per day')\n",
    "#plt.ylim(-5,10)\n",
    "plt.savefig('ASNE_numwavfilesperday.png',dpi=200)"
   ]
  },
  {
   "cell_type": "code",
   "execution_count": 43,
   "metadata": {},
   "outputs": [
    {
     "name": "stdout",
     "output_type": "stream",
     "text": [
      "229430.0\n"
     ]
    }
   ],
   "source": [
    "print(np.sum(y))"
   ]
  },
  {
   "cell_type": "code",
   "execution_count": null,
   "metadata": {},
   "outputs": [],
   "source": []
  }
 ],
 "metadata": {
  "kernelspec": {
   "display_name": "Python 3",
   "language": "python",
   "name": "python3"
  },
  "language_info": {
   "codemirror_mode": {
    "name": "ipython",
    "version": 3
   },
   "file_extension": ".py",
   "mimetype": "text/x-python",
   "name": "python",
   "nbconvert_exporter": "python",
   "pygments_lexer": "ipython3",
   "version": "3.7.0"
  }
 },
 "nbformat": 4,
 "nbformat_minor": 2
}
